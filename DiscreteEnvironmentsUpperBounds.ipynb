{
 "cells": [
  {
   "cell_type": "code",
   "execution_count": 1,
   "metadata": {
    "id": "nMER5ql72KHi"
   },
   "outputs": [],
   "source": [
    "import gym\n",
    "import numpy as np\n",
    "import time, os\n",
    "import matplotlib.pyplot as plt\n",
    "from tqdm.notebook import tqdm\n",
    "import pandas as pd\n",
    "import seaborn as sns\n",
    "import pandas as pd\n",
    "import utils_discrete\n",
    "from IPython.display import clear_output\n",
    "import chain_custom\n",
    "import sys"
   ]
  },
  {
   "cell_type": "code",
   "execution_count": 2,
   "metadata": {
    "id": "ATISbEvZ2KHl"
   },
   "outputs": [],
   "source": [
    "# plotting parameters\n",
    "plotNorm = False          # plot norm graphs\n",
    "save = True              # save graphs for upper bounds\n",
    "compEmp = True           # compute all expectations empirically\n",
    "\n",
    "path = \"./tmp/\"           # path for images savings\n",
    "bounds = {\"policy\": {}}   # dict for saving bounds"
   ]
  },
  {
   "cell_type": "markdown",
   "metadata": {
    "id": "dKaJdcXA2KHn"
   },
   "source": [
    "### Frozen Lake"
   ]
  },
  {
   "cell_type": "code",
   "execution_count": 3,
   "metadata": {
    "id": "C08goFIO2KHp",
    "outputId": "89e2dd66-6f7d-48ba-f1e3-6ea0895998ac"
   },
   "outputs": [
    {
     "name": "stdout",
     "output_type": "stream",
     "text": [
      "\n",
      "\u001b[41mS\u001b[0mFFF\n",
      "FHFH\n",
      "FFFH\n",
      "HFFG\n"
     ]
    }
   ],
   "source": [
    "flag = True\n",
    "env = gym.make('FrozenLake-v0', is_slippery=flag)\n",
    "env.reset()\n",
    "env.render()"
   ]
  },
  {
   "cell_type": "code",
   "execution_count": null,
   "metadata": {
    "id": "yRY0Ryn42KHt"
   },
   "outputs": [],
   "source": [
    "N_states = env.observation_space.n\n",
    "N_actions = env.action_space.n\n",
    "N_br = 3\n",
    "gamma = 0.9\n",
    "\n",
    "# p(s'|s, a)\n",
    "p_next_state = utils_discrete.get_dynamics(env)\n",
    "p_ksi = [1./3, 1./3, 1./3]\n",
    "\n",
    "r_sa= np.zeros((N_states, N_states, N_actions))\n",
    "r_sa[15, 14, :] = 10\n",
    "r_sa = np.sum(r_sa*p_next_state, axis=0)"
   ]
  },
  {
   "cell_type": "code",
   "execution_count": null,
   "metadata": {
    "id": "S4jVQejL2KHv"
   },
   "outputs": [],
   "source": [
    "# Y_k^(x, a)\n",
    "Y_states = np.zeros((N_states, N_actions, 3), dtype=int)\n",
    "\n",
    "for i in range(env.observation_space.n):\n",
    "    for k in range(env.action_space.n):\n",
    "        ksi = 0\n",
    "        for j in range(env.observation_space.n):\n",
    "            if p_next_state[j, i, k] == 1/3:\n",
    "                Y_states[i, k, ksi] = j\n",
    "                ksi += 1\n",
    "            if p_next_state[j, i, k] == 1/3*2:\n",
    "                Y_states[i, k, ksi] = j\n",
    "                ksi += 1\n",
    "                \n",
    "                Y_states[i, k, ksi] = j\n",
    "                ksi += 1\n",
    "                \n",
    "            if p_next_state[j, i, k] == 1:\n",
    "                Y_states[i, k, :] = j"
   ]
  },
  {
   "cell_type": "code",
   "execution_count": null,
   "metadata": {
    "id": "JQ1I3VtS2KHw",
    "outputId": "9ffa4e81-5880-4945-b530-f9189b437345"
   },
   "outputs": [
    {
     "name": "stdout",
     "output_type": "stream",
     "text": [
      "Norm upper: 0.04512672005924051\n"
     ]
    }
   ],
   "source": [
    "# Value Iteration\n",
    "T = 1000     #M1=M2=T\n",
    "policy_determ = utils_discrete.perform_value_iteration(p_next_state, r_sa, Y_states, p_ksi, T, gamma, bounds, .00001, 0.1, \n",
    "                            plotNorm, compEmp, path, save)"
   ]
  },
  {
   "cell_type": "code",
   "execution_count": null,
   "metadata": {
    "id": "NLCc3m3H2KHx",
    "outputId": "482aa6e0-ef06-4974-f80d-0d74447f3d93"
   },
   "outputs": [
    {
     "name": "stdout",
     "output_type": "stream",
     "text": [
      "episode: 39900, length: 47\n",
      "\n"
     ]
    },
    {
     "data": {
      "image/png": "[encoded data removed]",
      "text/plain": [
       "<Figure size 360x360 with 1 Axes>"
      ]
     },
     "metadata": {},
     "output_type": "display_data"
    }
   ],
   "source": [
    "# Reinforce tabular policy approximation\n",
    "# init policy\n",
    "theta = np.ones(env.observation_space.n*env.action_space.n)\n",
    "policy = utils_discrete.make_policy(env, theta)\n",
    "\n",
    "lr = 0.01\n",
    "n = 40000\n",
    "score = []\n",
    "\n",
    "T = 10000     #M1=M2=T\n",
    "\n",
    "for episode in tqdm(range(n)):\n",
    "    reward = 0\n",
    "    while reward == 0:\n",
    "        state = env.reset()\n",
    "        trajectory = []\n",
    "        rewards = []\n",
    "        steps = 0\n",
    "        while True:\n",
    "            probs = policy[state]\n",
    "            action = np.random.choice(np.arange(env.action_space.n), p=probs)\n",
    "            new_state, reward, done, _ = env.step(action)\n",
    "            trajectory.append([state, action])\n",
    "            rewards.append(reward)\n",
    "            steps += 1\n",
    "            if done:\n",
    "                break\n",
    "            state = new_state\n",
    "        score.append(reward)\n",
    "    if done:\n",
    "        theta, policy = utils_discrete.update_policy_tabular(env, policy, theta, rewards, trajectory, lr, gamma)\n",
    "        if episode % 100 == 0:\n",
    "            clear_output(True)\n",
    "            sys.stdout.write(\"episode: {}, length: {}\\n\".format(episode, steps))\n",
    "    \n",
    "    if episode in [0, 10000, 30000]: #% period_savings == 0:\n",
    "        V_star, upper, _ = utils_discrete.getDiscrStationaryBounds(policy, r_sa, \n",
    "                                                                p_next_state, p_ksi, Y_states, gamma, int(T), \n",
    "                                                                0.01, plotNorm, compEmp)\n",
    "    \n",
    "        bounds[\"policy\"][\"V\"] = V_star\n",
    "        bounds[\"policy\"][\"upper\"] = upper\n",
    "        utils_discrete.plotBounds(bounds, iter_num=episode, path=path, save=True)\n",
    "        T /= 1.5\n",
    "    \n",
    "moving_avg_reward = []\n",
    "window = 1000\n",
    "for i in range(window, len(score)):\n",
    "    moving_avg_reward.append(sum(score[i-window:i])/window)\n",
    "\n",
    "fig, ax = plt.subplots(figsize=(5, 5))\n",
    "plt.plot(range(window, len(score)), moving_avg_reward)\n",
    "ax.set(xlabel='Episode', ylabel='Success Rate', title='Expected reward with a moving average')\n",
    "plt.show()"
   ]
  },
  {
   "cell_type": "markdown",
   "metadata": {
    "id": "2gRT7pQ62KHy"
   },
   "source": [
    "### Chain"
   ]
  },
  {
   "cell_type": "code",
   "execution_count": null,
   "metadata": {
    "id": "Tye81fng2KHy",
    "outputId": "aea2dfec-72f0-4389-8069-34bfb0c5f0cd"
   },
   "outputs": [
    {
     "name": "stdout",
     "output_type": "stream",
     "text": [
      "\n",
      "\u001b[35mT\u001b[0m<-S<=>S<=>S<=>S<=>S<=>S<=>\u001b[41mS\u001b[0m<=>S<=>S<=>S<=>S<=>S<=>S->\u001b[35mT\u001b[0m\n"
     ]
    }
   ],
   "source": [
    "p = 0.5              # noise in chain\n",
    "gamma = .8           # discounting factor\n",
    "env = chain_custom.Chain(p, 15)\n",
    "env.render()"
   ]
  },
  {
   "cell_type": "code",
   "execution_count": null,
   "metadata": {
    "id": "ou3psYZK2KHy"
   },
   "outputs": [],
   "source": [
    "#0 - left, 1 - right\n",
    "\n",
    "p_ksi = [p/2, 1-p/2]\n",
    "# p(s'|s, a)\n",
    "p_next_state = utils_discrete.get_dynamics(env)\n",
    "\n",
    "# r(s, a)\n",
    "r_sas = env.get_rewards()\n",
    "r_sa = np.einsum('kmn,nkm->km', r_sas, p_next_state)\n",
    "\n",
    "N_states = env.observation_space.n\n",
    "N_actions = env.action_space.n\n",
    "states = np.arange(N_states)\n",
    "actions = np.arange(N_actions)\n",
    "\n",
    "N_br = 2\n",
    "P = p_next_state\n",
    "ksi = np.random.choice(a=np.arange(N_br), size=1, p=p_ksi)[0]\n",
    "\n",
    "opt_policy = np.array((env.left_states + 1)*[[1., 0.]] +\\\n",
    "           (env.right_states + 2)*[[0., 1.]])\n",
    "random_policy = 0.5*np.ones((env.observation_space.n, env.action_space.n))"
   ]
  },
  {
   "cell_type": "code",
   "execution_count": null,
   "metadata": {
    "id": "DId297Fl2KH0"
   },
   "outputs": [],
   "source": [
    "# Y_k^(x, a)\n",
    "Y_states = np.zeros((N_states, N_actions, N_br), dtype=int) - 1\n",
    "\n",
    "for i in range(N_states):\n",
    "    for k in range(N_actions):\n",
    "        for j in range(N_states):\n",
    "            if P[j, i, k] == p_ksi[0]:\n",
    "                Y_states[i, k, 0] = j\n",
    "            if P[j, i, k] == p_ksi[1]:\n",
    "                Y_states[i, k, 1] = j\n",
    "            if P[j, i, k] == 1:\n",
    "                Y_states[i, k, 0] = j\n",
    "                Y_states[i, k, 1] = j"
   ]
  },
  {
   "cell_type": "code",
   "execution_count": null,
   "metadata": {
    "id": "jkXHaueH2KH1",
    "outputId": "16c76027-111b-48b2-d6c1-85b03dbf7638"
   },
   "outputs": [
    {
     "name": "stdout",
     "output_type": "stream",
     "text": [
      "Norm upper: 0.037908481610695315\n"
     ]
    }
   ],
   "source": [
    "# Value Iteration\n",
    "T = 1000     #M1=M2=T\n",
    "policy_determ = utils_discrete.perform_value_iteration(P, r_sa, Y_states, p_ksi, T, gamma, bounds, .00001, 0.1, \n",
    "                            plotNorm, compEmp, path, save)"
   ]
  },
  {
   "cell_type": "markdown",
   "metadata": {
    "id": "EL0Jkt622KH1"
   },
   "source": [
    "### Garnet"
   ]
  },
  {
   "cell_type": "code",
   "execution_count": null,
   "metadata": {
    "id": "yhQjzI4p2KH5"
   },
   "outputs": [],
   "source": [
    "#parameters of the system\n",
    "\n",
    "N_states = 20 # number of states\n",
    "N_actions = 5 # number of actions\n",
    "N_br = 2      # number of available transitions (branching parameter)\n",
    "gamma = 0.9   # discount factor\n",
    "seed = 42     # random state \n",
    "states = np.arange(N_states)\n",
    "actions = np.arange(N_actions)\n",
    "p_ksi = np.ones(N_br)/N_br\n",
    "\n",
    "reward_matrix = utils_discrete.get_reward(N_states, N_actions, random_state=seed) # reward function\n",
    "P = utils_discrete.transition_matrix(N_states, N_actions, N_br, random_state=seed) #transition matrix"
   ]
  },
  {
   "cell_type": "code",
   "execution_count": null,
   "metadata": {
    "id": "Xughu5OE2KH5"
   },
   "outputs": [],
   "source": [
    "# Y_k^(x, a)\n",
    "Y_states = np.zeros((N_states, N_actions, N_br), dtype=int)-1\n",
    "\n",
    "for i in range(N_states):\n",
    "    for k in range(N_actions):\n",
    "        ksi = 0\n",
    "        for j in range(N_states):\n",
    "            if P[j, i, k] == 1/N_br:\n",
    "                Y_states[i, k, ksi] = j\n",
    "                ksi += 1"
   ]
  },
  {
   "cell_type": "code",
   "execution_count": null,
   "metadata": {
    "id": "BzBuFYIE2KH6",
    "outputId": "36eac187-f1bd-4d18-ac08-31b7d5340f88"
   },
   "outputs": [
    {
     "name": "stdout",
     "output_type": "stream",
     "text": [
      "Norm upper: 0.1594279136902338\n"
     ]
    }
   ],
   "source": [
    "# Value Iteration\n",
    "T = 3000     #M1=M2=T\n",
    "policy_determ = utils_discrete.perform_value_iteration(P, reward_matrix, Y_states, p_ksi, T, gamma, \n",
    "                                                       bounds, .01, 0.4, plotNorm, compEmp, path, save)"
   ]
  },
  {
   "cell_type": "code",
   "execution_count": null,
   "metadata": {
    "id": "F7Yt4O2l2KH7"
   },
   "outputs": [],
   "source": []
  }
 ],
 "metadata": {
  "colab": {
   "name": "DiscreteEnvironmentsUpperBounds.ipynb",
   "provenance": []
  },
  "kernelspec": {
   "display_name": "Python 3",
   "language": "python",
   "name": "python3"
  },
  "language_info": {
   "codemirror_mode": {
    "name": "ipython",
    "version": 3
   },
   "file_extension": ".py",
   "mimetype": "text/x-python",
   "name": "python",
   "nbconvert_exporter": "python",
   "pygments_lexer": "ipython3",
   "version": "3.8.3"
  }
 },
 "nbformat": 4,
 "nbformat_minor": 1
}
